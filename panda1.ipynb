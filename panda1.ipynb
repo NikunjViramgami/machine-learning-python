{
 "cells": [
  {
   "cell_type": "code",
   "execution_count": 2,
   "id": "2fee2a93",
   "metadata": {},
   "outputs": [
    {
     "name": "stdout",
     "output_type": "stream",
     "text": [
      "Enter the number of data3\n",
      "Enter your Name:Nikunj\n",
      "Enter marks1:50\n",
      "Enter mark2:60\n",
      "[{'Name': 'Nikunj', 'Mark1': 50, 'Mark2': 60}]\n",
      "Enter your Name:Jigar\n",
      "Enter marks1:60\n",
      "Enter mark2:80\n",
      "[{'Name': 'Nikunj', 'Mark1': 50, 'Mark2': 60}, {'Name': 'Jigar', 'Mark1': 60, 'Mark2': 80}]\n",
      "Enter your Name:Raj\n",
      "Enter marks1:80\n",
      "Enter mark2:90\n",
      "[{'Name': 'Nikunj', 'Mark1': 50, 'Mark2': 60}, {'Name': 'Jigar', 'Mark1': 60, 'Mark2': 80}, {'Name': 'Raj', 'Mark1': 80, 'Mark2': 90}]\n"
     ]
    }
   ],
   "source": [
    "list=[]\n",
    "n=input(\"Enter the number of data\")\n",
    "for i in range(int(n)):\n",
    "    d={}\n",
    "    d[\"Name\"]=input(\"Enter your Name:\")\n",
    "    d[\"Mark1\"]=int(input(\"Enter marks1:\"))\n",
    "    d[\"Mark2\"]=int(input(\"Enter mark2:\"))\n",
    "    list.append(d)\n",
    "    print(list)"
   ]
  },
  {
   "cell_type": "code",
   "execution_count": 4,
   "id": "53bd2691",
   "metadata": {},
   "outputs": [],
   "source": [
    "import pandas as pd\n"
   ]
  },
  {
   "cell_type": "code",
   "execution_count": 6,
   "id": "42d9f058",
   "metadata": {},
   "outputs": [
    {
     "data": {
      "text/plain": [
       "0    {'Name': 'Nikunj', 'Mark1': 50, 'Mark2': 60}\n",
       "1     {'Name': 'Jigar', 'Mark1': 60, 'Mark2': 80}\n",
       "2       {'Name': 'Raj', 'Mark1': 80, 'Mark2': 90}\n",
       "dtype: object"
      ]
     },
     "execution_count": 6,
     "metadata": {},
     "output_type": "execute_result"
    }
   ],
   "source": [
    "#conver list into series\n",
    "a1=pd.Series(data=list)\n",
    "a1\n"
   ]
  },
  {
   "cell_type": "code",
   "execution_count": 7,
   "id": "b462780a",
   "metadata": {},
   "outputs": [
    {
     "data": {
      "text/plain": [
       "0    45\n",
       "1    67\n",
       "2    89\n",
       "3    90\n",
       "dtype: int64"
      ]
     },
     "execution_count": 7,
     "metadata": {},
     "output_type": "execute_result"
    }
   ],
   "source": [
    "marks=[45,67,89,90]\n",
    "a2=pd.Series(data=marks)\n",
    "a2"
   ]
  },
  {
   "cell_type": "code",
   "execution_count": 8,
   "id": "0b50664d",
   "metadata": {},
   "outputs": [
    {
     "data": {
      "text/plain": [
       "pandas.core.series.Series"
      ]
     },
     "execution_count": 8,
     "metadata": {},
     "output_type": "execute_result"
    }
   ],
   "source": [
    "type(a2)"
   ]
  },
  {
   "cell_type": "code",
   "execution_count": 9,
   "id": "0e22f665",
   "metadata": {},
   "outputs": [
    {
     "data": {
      "text/plain": [
       "0    Nikunj\n",
       "1       Raj\n",
       "2    Roshan\n",
       "3      Ajay\n",
       "dtype: object"
      ]
     },
     "execution_count": 9,
     "metadata": {},
     "output_type": "execute_result"
    }
   ],
   "source": [
    "Names=['Nikunj','Raj','Roshan',\"Ajay\"]\n",
    "a3=pd.Series(data=Names)\n",
    "a3"
   ]
  },
  {
   "cell_type": "code",
   "execution_count": 10,
   "id": "778d40d0",
   "metadata": {},
   "outputs": [
    {
     "data": {
      "text/plain": [
       "pandas.core.series.Series"
      ]
     },
     "execution_count": 10,
     "metadata": {},
     "output_type": "execute_result"
    }
   ],
   "source": [
    "type(a3)"
   ]
  },
  {
   "cell_type": "code",
   "execution_count": 12,
   "id": "779f35c6",
   "metadata": {},
   "outputs": [
    {
     "data": {
      "text/plain": [
       "{'name': ['Nikunj', 'Raj', 'Roshan', 'Ajay'], 'Mark': [45, 67, 89, 90]}"
      ]
     },
     "execution_count": 12,
     "metadata": {},
     "output_type": "execute_result"
    }
   ],
   "source": [
    "Student={\"name\":Names,\"Mark\":marks}\n",
    "Student"
   ]
  },
  {
   "cell_type": "code",
   "execution_count": 13,
   "id": "aeead55e",
   "metadata": {},
   "outputs": [
    {
     "data": {
      "text/plain": [
       "dict"
      ]
     },
     "execution_count": 13,
     "metadata": {},
     "output_type": "execute_result"
    }
   ],
   "source": [
    "type(Student)"
   ]
  },
  {
   "cell_type": "code",
   "execution_count": 14,
   "id": "aca873bb",
   "metadata": {},
   "outputs": [
    {
     "data": {
      "text/html": [
       "<div>\n",
       "<style scoped>\n",
       "    .dataframe tbody tr th:only-of-type {\n",
       "        vertical-align: middle;\n",
       "    }\n",
       "\n",
       "    .dataframe tbody tr th {\n",
       "        vertical-align: top;\n",
       "    }\n",
       "\n",
       "    .dataframe thead th {\n",
       "        text-align: right;\n",
       "    }\n",
       "</style>\n",
       "<table border=\"1\" class=\"dataframe\">\n",
       "  <thead>\n",
       "    <tr style=\"text-align: right;\">\n",
       "      <th></th>\n",
       "      <th>name</th>\n",
       "      <th>Mark</th>\n",
       "    </tr>\n",
       "  </thead>\n",
       "  <tbody>\n",
       "    <tr>\n",
       "      <th>A</th>\n",
       "      <td>Nikunj</td>\n",
       "      <td>45</td>\n",
       "    </tr>\n",
       "    <tr>\n",
       "      <th>B</th>\n",
       "      <td>Raj</td>\n",
       "      <td>67</td>\n",
       "    </tr>\n",
       "    <tr>\n",
       "      <th>C</th>\n",
       "      <td>Roshan</td>\n",
       "      <td>89</td>\n",
       "    </tr>\n",
       "    <tr>\n",
       "      <th>D</th>\n",
       "      <td>Ajay</td>\n",
       "      <td>90</td>\n",
       "    </tr>\n",
       "  </tbody>\n",
       "</table>\n",
       "</div>"
      ],
      "text/plain": [
       "     name  Mark\n",
       "A  Nikunj    45\n",
       "B     Raj    67\n",
       "C  Roshan    89\n",
       "D    Ajay    90"
      ]
     },
     "execution_count": 14,
     "metadata": {},
     "output_type": "execute_result"
    }
   ],
   "source": [
    "#Dataframe\n",
    "a4=pd.DataFrame(data=Student,index=['A','B','C','D'])\n",
    "a4"
   ]
  },
  {
   "cell_type": "code",
   "execution_count": 15,
   "id": "e3e861ef",
   "metadata": {},
   "outputs": [
    {
     "data": {
      "text/plain": [
       "(4, 2)"
      ]
     },
     "execution_count": 15,
     "metadata": {},
     "output_type": "execute_result"
    }
   ],
   "source": [
    "#Dataframe size\n",
    "a4.shape"
   ]
  },
  {
   "cell_type": "code",
   "execution_count": 16,
   "id": "5f792d1b",
   "metadata": {},
   "outputs": [
    {
     "data": {
      "text/plain": [
       "<bound method DataFrame.info of      name  Mark\n",
       "A  Nikunj    45\n",
       "B     Raj    67\n",
       "C  Roshan    89\n",
       "D    Ajay    90>"
      ]
     },
     "execution_count": 16,
     "metadata": {},
     "output_type": "execute_result"
    }
   ],
   "source": [
    "a4.info"
   ]
  },
  {
   "cell_type": "code",
   "execution_count": 17,
   "id": "df8c95ca",
   "metadata": {},
   "outputs": [
    {
     "data": {
      "text/plain": [
       "<bound method NDFrame.describe of      name  Mark\n",
       "A  Nikunj    45\n",
       "B     Raj    67\n",
       "C  Roshan    89\n",
       "D    Ajay    90>"
      ]
     },
     "execution_count": 17,
     "metadata": {},
     "output_type": "execute_result"
    }
   ],
   "source": [
    "a4.describe"
   ]
  },
  {
   "cell_type": "code",
   "execution_count": 18,
   "id": "01356d6d",
   "metadata": {},
   "outputs": [
    {
     "data": {
      "text/html": [
       "<div>\n",
       "<style scoped>\n",
       "    .dataframe tbody tr th:only-of-type {\n",
       "        vertical-align: middle;\n",
       "    }\n",
       "\n",
       "    .dataframe tbody tr th {\n",
       "        vertical-align: top;\n",
       "    }\n",
       "\n",
       "    .dataframe thead th {\n",
       "        text-align: right;\n",
       "    }\n",
       "</style>\n",
       "<table border=\"1\" class=\"dataframe\">\n",
       "  <thead>\n",
       "    <tr style=\"text-align: right;\">\n",
       "      <th></th>\n",
       "      <th>name</th>\n",
       "      <th>Mark</th>\n",
       "    </tr>\n",
       "  </thead>\n",
       "  <tbody>\n",
       "    <tr>\n",
       "      <th>A</th>\n",
       "      <td>Nikunj</td>\n",
       "      <td>45</td>\n",
       "    </tr>\n",
       "    <tr>\n",
       "      <th>B</th>\n",
       "      <td>Raj</td>\n",
       "      <td>67</td>\n",
       "    </tr>\n",
       "    <tr>\n",
       "      <th>C</th>\n",
       "      <td>Roshan</td>\n",
       "      <td>89</td>\n",
       "    </tr>\n",
       "    <tr>\n",
       "      <th>D</th>\n",
       "      <td>Ajay</td>\n",
       "      <td>90</td>\n",
       "    </tr>\n",
       "  </tbody>\n",
       "</table>\n",
       "</div>"
      ],
      "text/plain": [
       "     name  Mark\n",
       "A  Nikunj    45\n",
       "B     Raj    67\n",
       "C  Roshan    89\n",
       "D    Ajay    90"
      ]
     },
     "execution_count": 18,
     "metadata": {},
     "output_type": "execute_result"
    }
   ],
   "source": [
    "#top 5 record for multiple data\n",
    "a4.head()"
   ]
  },
  {
   "cell_type": "code",
   "execution_count": 19,
   "id": "e597cc50",
   "metadata": {},
   "outputs": [
    {
     "data": {
      "text/html": [
       "<div>\n",
       "<style scoped>\n",
       "    .dataframe tbody tr th:only-of-type {\n",
       "        vertical-align: middle;\n",
       "    }\n",
       "\n",
       "    .dataframe tbody tr th {\n",
       "        vertical-align: top;\n",
       "    }\n",
       "\n",
       "    .dataframe thead th {\n",
       "        text-align: right;\n",
       "    }\n",
       "</style>\n",
       "<table border=\"1\" class=\"dataframe\">\n",
       "  <thead>\n",
       "    <tr style=\"text-align: right;\">\n",
       "      <th></th>\n",
       "      <th>name</th>\n",
       "      <th>Mark</th>\n",
       "    </tr>\n",
       "  </thead>\n",
       "  <tbody>\n",
       "    <tr>\n",
       "      <th>A</th>\n",
       "      <td>Nikunj</td>\n",
       "      <td>45</td>\n",
       "    </tr>\n",
       "    <tr>\n",
       "      <th>B</th>\n",
       "      <td>Raj</td>\n",
       "      <td>67</td>\n",
       "    </tr>\n",
       "  </tbody>\n",
       "</table>\n",
       "</div>"
      ],
      "text/plain": [
       "     name  Mark\n",
       "A  Nikunj    45\n",
       "B     Raj    67"
      ]
     },
     "execution_count": 19,
     "metadata": {},
     "output_type": "execute_result"
    }
   ],
   "source": [
    "a4.head(2)"
   ]
  },
  {
   "cell_type": "code",
   "execution_count": 20,
   "id": "256df997",
   "metadata": {},
   "outputs": [
    {
     "data": {
      "text/html": [
       "<div>\n",
       "<style scoped>\n",
       "    .dataframe tbody tr th:only-of-type {\n",
       "        vertical-align: middle;\n",
       "    }\n",
       "\n",
       "    .dataframe tbody tr th {\n",
       "        vertical-align: top;\n",
       "    }\n",
       "\n",
       "    .dataframe thead th {\n",
       "        text-align: right;\n",
       "    }\n",
       "</style>\n",
       "<table border=\"1\" class=\"dataframe\">\n",
       "  <thead>\n",
       "    <tr style=\"text-align: right;\">\n",
       "      <th></th>\n",
       "      <th>name</th>\n",
       "      <th>Mark</th>\n",
       "    </tr>\n",
       "  </thead>\n",
       "  <tbody>\n",
       "    <tr>\n",
       "      <th>A</th>\n",
       "      <td>Nikunj</td>\n",
       "      <td>45</td>\n",
       "    </tr>\n",
       "    <tr>\n",
       "      <th>B</th>\n",
       "      <td>Raj</td>\n",
       "      <td>67</td>\n",
       "    </tr>\n",
       "    <tr>\n",
       "      <th>C</th>\n",
       "      <td>Roshan</td>\n",
       "      <td>89</td>\n",
       "    </tr>\n",
       "    <tr>\n",
       "      <th>D</th>\n",
       "      <td>Ajay</td>\n",
       "      <td>90</td>\n",
       "    </tr>\n",
       "  </tbody>\n",
       "</table>\n",
       "</div>"
      ],
      "text/plain": [
       "     name  Mark\n",
       "A  Nikunj    45\n",
       "B     Raj    67\n",
       "C  Roshan    89\n",
       "D    Ajay    90"
      ]
     },
     "execution_count": 20,
     "metadata": {},
     "output_type": "execute_result"
    }
   ],
   "source": [
    "\n",
    "#last 5 records to shown\n",
    "a4.tail()"
   ]
  },
  {
   "cell_type": "code",
   "execution_count": 21,
   "id": "0ad90dd3",
   "metadata": {},
   "outputs": [
    {
     "data": {
      "text/html": [
       "<div>\n",
       "<style scoped>\n",
       "    .dataframe tbody tr th:only-of-type {\n",
       "        vertical-align: middle;\n",
       "    }\n",
       "\n",
       "    .dataframe tbody tr th {\n",
       "        vertical-align: top;\n",
       "    }\n",
       "\n",
       "    .dataframe thead th {\n",
       "        text-align: right;\n",
       "    }\n",
       "</style>\n",
       "<table border=\"1\" class=\"dataframe\">\n",
       "  <thead>\n",
       "    <tr style=\"text-align: right;\">\n",
       "      <th></th>\n",
       "      <th>name</th>\n",
       "      <th>Mark</th>\n",
       "    </tr>\n",
       "  </thead>\n",
       "  <tbody>\n",
       "    <tr>\n",
       "      <th>C</th>\n",
       "      <td>Roshan</td>\n",
       "      <td>89</td>\n",
       "    </tr>\n",
       "    <tr>\n",
       "      <th>D</th>\n",
       "      <td>Ajay</td>\n",
       "      <td>90</td>\n",
       "    </tr>\n",
       "  </tbody>\n",
       "</table>\n",
       "</div>"
      ],
      "text/plain": [
       "     name  Mark\n",
       "C  Roshan    89\n",
       "D    Ajay    90"
      ]
     },
     "execution_count": 21,
     "metadata": {},
     "output_type": "execute_result"
    }
   ],
   "source": [
    "a4.tail(2)"
   ]
  },
  {
   "cell_type": "code",
   "execution_count": 23,
   "id": "2593d65a",
   "metadata": {},
   "outputs": [
    {
     "data": {
      "text/html": [
       "<div>\n",
       "<style scoped>\n",
       "    .dataframe tbody tr th:only-of-type {\n",
       "        vertical-align: middle;\n",
       "    }\n",
       "\n",
       "    .dataframe tbody tr th {\n",
       "        vertical-align: top;\n",
       "    }\n",
       "\n",
       "    .dataframe thead th {\n",
       "        text-align: right;\n",
       "    }\n",
       "</style>\n",
       "<table border=\"1\" class=\"dataframe\">\n",
       "  <thead>\n",
       "    <tr style=\"text-align: right;\">\n",
       "      <th></th>\n",
       "      <th>Name</th>\n",
       "      <th>Age</th>\n",
       "      <th>Mark</th>\n",
       "    </tr>\n",
       "  </thead>\n",
       "  <tbody>\n",
       "    <tr>\n",
       "      <th>0</th>\n",
       "      <td>Jigar</td>\n",
       "      <td>22</td>\n",
       "      <td>70</td>\n",
       "    </tr>\n",
       "    <tr>\n",
       "      <th>1</th>\n",
       "      <td>Dhrumit</td>\n",
       "      <td>21</td>\n",
       "      <td>80</td>\n",
       "    </tr>\n",
       "    <tr>\n",
       "      <th>2</th>\n",
       "      <td>Raju</td>\n",
       "      <td>20</td>\n",
       "      <td>70</td>\n",
       "    </tr>\n",
       "    <tr>\n",
       "      <th>3</th>\n",
       "      <td>Karan</td>\n",
       "      <td>25</td>\n",
       "      <td>55</td>\n",
       "    </tr>\n",
       "    <tr>\n",
       "      <th>4</th>\n",
       "      <td>Rahul</td>\n",
       "      <td>23</td>\n",
       "      <td>63</td>\n",
       "    </tr>\n",
       "    <tr>\n",
       "      <th>5</th>\n",
       "      <td>Aman</td>\n",
       "      <td>24</td>\n",
       "      <td>29</td>\n",
       "    </tr>\n",
       "    <tr>\n",
       "      <th>6</th>\n",
       "      <td>Jugnu</td>\n",
       "      <td>19</td>\n",
       "      <td>54</td>\n",
       "    </tr>\n",
       "    <tr>\n",
       "      <th>7</th>\n",
       "      <td>Asad</td>\n",
       "      <td>22</td>\n",
       "      <td>80</td>\n",
       "    </tr>\n",
       "    <tr>\n",
       "      <th>8</th>\n",
       "      <td>Faltu</td>\n",
       "      <td>23</td>\n",
       "      <td>57</td>\n",
       "    </tr>\n",
       "    <tr>\n",
       "      <th>9</th>\n",
       "      <td>Sneha</td>\n",
       "      <td>21</td>\n",
       "      <td>29</td>\n",
       "    </tr>\n",
       "    <tr>\n",
       "      <th>10</th>\n",
       "      <td>Saloni</td>\n",
       "      <td>20</td>\n",
       "      <td>65</td>\n",
       "    </tr>\n",
       "    <tr>\n",
       "      <th>11</th>\n",
       "      <td>Maitrii</td>\n",
       "      <td>25</td>\n",
       "      <td>49</td>\n",
       "    </tr>\n",
       "    <tr>\n",
       "      <th>12</th>\n",
       "      <td>Darshan</td>\n",
       "      <td>24</td>\n",
       "      <td>52</td>\n",
       "    </tr>\n",
       "    <tr>\n",
       "      <th>13</th>\n",
       "      <td>Roshan</td>\n",
       "      <td>26</td>\n",
       "      <td>99</td>\n",
       "    </tr>\n",
       "    <tr>\n",
       "      <th>14</th>\n",
       "      <td>Vraj</td>\n",
       "      <td>20</td>\n",
       "      <td>97</td>\n",
       "    </tr>\n",
       "    <tr>\n",
       "      <th>15</th>\n",
       "      <td>Reenal</td>\n",
       "      <td>23</td>\n",
       "      <td>90</td>\n",
       "    </tr>\n",
       "    <tr>\n",
       "      <th>16</th>\n",
       "      <td>Jay</td>\n",
       "      <td>18</td>\n",
       "      <td>88</td>\n",
       "    </tr>\n",
       "    <tr>\n",
       "      <th>17</th>\n",
       "      <td>Manali</td>\n",
       "      <td>26</td>\n",
       "      <td>56</td>\n",
       "    </tr>\n",
       "    <tr>\n",
       "      <th>18</th>\n",
       "      <td>Hiral</td>\n",
       "      <td>23</td>\n",
       "      <td>15</td>\n",
       "    </tr>\n",
       "  </tbody>\n",
       "</table>\n",
       "</div>"
      ],
      "text/plain": [
       "       Name  Age  Mark\n",
       "0     Jigar   22    70\n",
       "1   Dhrumit   21    80\n",
       "2      Raju   20    70\n",
       "3     Karan   25    55\n",
       "4     Rahul   23    63\n",
       "5      Aman   24    29\n",
       "6     Jugnu   19    54\n",
       "7      Asad   22    80\n",
       "8     Faltu   23    57\n",
       "9     Sneha   21    29\n",
       "10   Saloni   20    65\n",
       "11  Maitrii   25    49\n",
       "12  Darshan   24    52\n",
       "13   Roshan   26    99\n",
       "14     Vraj   20    97\n",
       "15   Reenal   23    90\n",
       "16      Jay   18    88\n",
       "17   Manali   26    56\n",
       "18    Hiral   23    15"
      ]
     },
     "execution_count": 23,
     "metadata": {},
     "output_type": "execute_result"
    }
   ],
   "source": [
    "a5=pd.read_csv('Student.csv')\n",
    "a5"
   ]
  },
  {
   "cell_type": "code",
   "execution_count": 24,
   "id": "46989546",
   "metadata": {},
   "outputs": [
    {
     "data": {
      "text/plain": [
       "pandas.core.frame.DataFrame"
      ]
     },
     "execution_count": 24,
     "metadata": {},
     "output_type": "execute_result"
    }
   ],
   "source": [
    "type(a5)"
   ]
  },
  {
   "cell_type": "code",
   "execution_count": 30,
   "id": "836dc541",
   "metadata": {},
   "outputs": [
    {
     "name": "stdout",
     "output_type": "stream",
     "text": [
      "20\n"
     ]
    }
   ],
   "source": [
    "#string index a5.iloc[row_index,column_index]\n",
    "print(a5.iloc[2,1])"
   ]
  },
  {
   "cell_type": "code",
   "execution_count": 31,
   "id": "a55509e1",
   "metadata": {},
   "outputs": [
    {
     "data": {
      "text/plain": [
       "Index(['Name', 'Age', 'Mark'], dtype='object')"
      ]
     },
     "execution_count": 31,
     "metadata": {},
     "output_type": "execute_result"
    }
   ],
   "source": [
    "#find columns:kist of columns\n",
    "a5.columns"
   ]
  },
  {
   "cell_type": "code",
   "execution_count": 34,
   "id": "75f8c2c6",
   "metadata": {},
   "outputs": [
    {
     "data": {
      "text/plain": [
       "0       Jigar\n",
       "1     Dhrumit\n",
       "2        Raju\n",
       "3       Karan\n",
       "4       Rahul\n",
       "5        Aman\n",
       "6       Jugnu\n",
       "7        Asad\n",
       "8       Faltu\n",
       "9       Sneha\n",
       "10     Saloni\n",
       "11    Maitrii\n",
       "12    Darshan\n",
       "13     Roshan\n",
       "14       Vraj\n",
       "15     Reenal\n",
       "16        Jay\n",
       "17     Manali\n",
       "18      Hiral\n",
       "Name: Name, dtype: object"
      ]
     },
     "execution_count": 34,
     "metadata": {},
     "output_type": "execute_result"
    }
   ],
   "source": [
    "a5['Name']"
   ]
  },
  {
   "cell_type": "code",
   "execution_count": 35,
   "id": "7ac132a3",
   "metadata": {},
   "outputs": [
    {
     "data": {
      "text/html": [
       "<div>\n",
       "<style scoped>\n",
       "    .dataframe tbody tr th:only-of-type {\n",
       "        vertical-align: middle;\n",
       "    }\n",
       "\n",
       "    .dataframe tbody tr th {\n",
       "        vertical-align: top;\n",
       "    }\n",
       "\n",
       "    .dataframe thead th {\n",
       "        text-align: right;\n",
       "    }\n",
       "</style>\n",
       "<table border=\"1\" class=\"dataframe\">\n",
       "  <thead>\n",
       "    <tr style=\"text-align: right;\">\n",
       "      <th></th>\n",
       "      <th>Name</th>\n",
       "      <th>Age</th>\n",
       "      <th>Mark</th>\n",
       "    </tr>\n",
       "  </thead>\n",
       "  <tbody>\n",
       "    <tr>\n",
       "      <th>0</th>\n",
       "      <td>Jigar</td>\n",
       "      <td>22</td>\n",
       "      <td>70</td>\n",
       "    </tr>\n",
       "    <tr>\n",
       "      <th>1</th>\n",
       "      <td>Dhrumit</td>\n",
       "      <td>21</td>\n",
       "      <td>80</td>\n",
       "    </tr>\n",
       "    <tr>\n",
       "      <th>2</th>\n",
       "      <td>Raju</td>\n",
       "      <td>20</td>\n",
       "      <td>70</td>\n",
       "    </tr>\n",
       "    <tr>\n",
       "      <th>3</th>\n",
       "      <td>Karan</td>\n",
       "      <td>25</td>\n",
       "      <td>55</td>\n",
       "    </tr>\n",
       "    <tr>\n",
       "      <th>4</th>\n",
       "      <td>Rahul</td>\n",
       "      <td>23</td>\n",
       "      <td>63</td>\n",
       "    </tr>\n",
       "  </tbody>\n",
       "</table>\n",
       "</div>"
      ],
      "text/plain": [
       "      Name  Age  Mark\n",
       "0    Jigar   22    70\n",
       "1  Dhrumit   21    80\n",
       "2     Raju   20    70\n",
       "3    Karan   25    55\n",
       "4    Rahul   23    63"
      ]
     },
     "execution_count": 35,
     "metadata": {},
     "output_type": "execute_result"
    }
   ],
   "source": [
    "#top 5 records\n",
    "a5.head()"
   ]
  },
  {
   "cell_type": "code",
   "execution_count": 36,
   "id": "1670d657",
   "metadata": {},
   "outputs": [
    {
     "data": {
      "text/plain": [
       "(19, 3)"
      ]
     },
     "execution_count": 36,
     "metadata": {},
     "output_type": "execute_result"
    }
   ],
   "source": [
    "a5.shape"
   ]
  },
  {
   "cell_type": "code",
   "execution_count": 37,
   "id": "429e94a8",
   "metadata": {},
   "outputs": [
    {
     "data": {
      "text/plain": [
       "<bound method NDFrame.describe of        Name  Age  Mark\n",
       "0     Jigar   22    70\n",
       "1   Dhrumit   21    80\n",
       "2      Raju   20    70\n",
       "3     Karan   25    55\n",
       "4     Rahul   23    63\n",
       "5      Aman   24    29\n",
       "6     Jugnu   19    54\n",
       "7      Asad   22    80\n",
       "8     Faltu   23    57\n",
       "9     Sneha   21    29\n",
       "10   Saloni   20    65\n",
       "11  Maitrii   25    49\n",
       "12  Darshan   24    52\n",
       "13   Roshan   26    99\n",
       "14     Vraj   20    97\n",
       "15   Reenal   23    90\n",
       "16      Jay   18    88\n",
       "17   Manali   26    56\n",
       "18    Hiral   23    15>"
      ]
     },
     "execution_count": 37,
     "metadata": {},
     "output_type": "execute_result"
    }
   ],
   "source": [
    "a5.describe"
   ]
  },
  {
   "cell_type": "code",
   "execution_count": 39,
   "id": "31a18d06",
   "metadata": {},
   "outputs": [
    {
     "data": {
      "text/plain": [
       "<bound method DataFrame.info of        Name  Age  Mark\n",
       "0     Jigar   22    70\n",
       "1   Dhrumit   21    80\n",
       "2      Raju   20    70\n",
       "3     Karan   25    55\n",
       "4     Rahul   23    63\n",
       "5      Aman   24    29\n",
       "6     Jugnu   19    54\n",
       "7      Asad   22    80\n",
       "8     Faltu   23    57\n",
       "9     Sneha   21    29\n",
       "10   Saloni   20    65\n",
       "11  Maitrii   25    49\n",
       "12  Darshan   24    52\n",
       "13   Roshan   26    99\n",
       "14     Vraj   20    97\n",
       "15   Reenal   23    90\n",
       "16      Jay   18    88\n",
       "17   Manali   26    56\n",
       "18    Hiral   23    15>"
      ]
     },
     "execution_count": 39,
     "metadata": {},
     "output_type": "execute_result"
    }
   ],
   "source": [
    "a5.info"
   ]
  },
  {
   "cell_type": "code",
   "execution_count": 41,
   "id": "52a1a11a",
   "metadata": {},
   "outputs": [
    {
     "data": {
      "text/html": [
       "<div>\n",
       "<style scoped>\n",
       "    .dataframe tbody tr th:only-of-type {\n",
       "        vertical-align: middle;\n",
       "    }\n",
       "\n",
       "    .dataframe tbody tr th {\n",
       "        vertical-align: top;\n",
       "    }\n",
       "\n",
       "    .dataframe thead th {\n",
       "        text-align: right;\n",
       "    }\n",
       "</style>\n",
       "<table border=\"1\" class=\"dataframe\">\n",
       "  <thead>\n",
       "    <tr style=\"text-align: right;\">\n",
       "      <th></th>\n",
       "      <th>Name</th>\n",
       "      <th>Age</th>\n",
       "    </tr>\n",
       "  </thead>\n",
       "  <tbody>\n",
       "    <tr>\n",
       "      <th>0</th>\n",
       "      <td>Jigar</td>\n",
       "      <td>22</td>\n",
       "    </tr>\n",
       "    <tr>\n",
       "      <th>1</th>\n",
       "      <td>Dhrumit</td>\n",
       "      <td>21</td>\n",
       "    </tr>\n",
       "    <tr>\n",
       "      <th>2</th>\n",
       "      <td>Raju</td>\n",
       "      <td>20</td>\n",
       "    </tr>\n",
       "    <tr>\n",
       "      <th>3</th>\n",
       "      <td>Karan</td>\n",
       "      <td>25</td>\n",
       "    </tr>\n",
       "    <tr>\n",
       "      <th>4</th>\n",
       "      <td>Rahul</td>\n",
       "      <td>23</td>\n",
       "    </tr>\n",
       "    <tr>\n",
       "      <th>5</th>\n",
       "      <td>Aman</td>\n",
       "      <td>24</td>\n",
       "    </tr>\n",
       "    <tr>\n",
       "      <th>6</th>\n",
       "      <td>Jugnu</td>\n",
       "      <td>19</td>\n",
       "    </tr>\n",
       "    <tr>\n",
       "      <th>7</th>\n",
       "      <td>Asad</td>\n",
       "      <td>22</td>\n",
       "    </tr>\n",
       "    <tr>\n",
       "      <th>8</th>\n",
       "      <td>Faltu</td>\n",
       "      <td>23</td>\n",
       "    </tr>\n",
       "    <tr>\n",
       "      <th>9</th>\n",
       "      <td>Sneha</td>\n",
       "      <td>21</td>\n",
       "    </tr>\n",
       "    <tr>\n",
       "      <th>10</th>\n",
       "      <td>Saloni</td>\n",
       "      <td>20</td>\n",
       "    </tr>\n",
       "    <tr>\n",
       "      <th>11</th>\n",
       "      <td>Maitrii</td>\n",
       "      <td>25</td>\n",
       "    </tr>\n",
       "    <tr>\n",
       "      <th>12</th>\n",
       "      <td>Darshan</td>\n",
       "      <td>24</td>\n",
       "    </tr>\n",
       "    <tr>\n",
       "      <th>13</th>\n",
       "      <td>Roshan</td>\n",
       "      <td>26</td>\n",
       "    </tr>\n",
       "    <tr>\n",
       "      <th>14</th>\n",
       "      <td>Vraj</td>\n",
       "      <td>20</td>\n",
       "    </tr>\n",
       "    <tr>\n",
       "      <th>15</th>\n",
       "      <td>Reenal</td>\n",
       "      <td>23</td>\n",
       "    </tr>\n",
       "    <tr>\n",
       "      <th>16</th>\n",
       "      <td>Jay</td>\n",
       "      <td>18</td>\n",
       "    </tr>\n",
       "    <tr>\n",
       "      <th>17</th>\n",
       "      <td>Manali</td>\n",
       "      <td>26</td>\n",
       "    </tr>\n",
       "    <tr>\n",
       "      <th>18</th>\n",
       "      <td>Hiral</td>\n",
       "      <td>23</td>\n",
       "    </tr>\n",
       "  </tbody>\n",
       "</table>\n",
       "</div>"
      ],
      "text/plain": [
       "       Name  Age\n",
       "0     Jigar   22\n",
       "1   Dhrumit   21\n",
       "2      Raju   20\n",
       "3     Karan   25\n",
       "4     Rahul   23\n",
       "5      Aman   24\n",
       "6     Jugnu   19\n",
       "7      Asad   22\n",
       "8     Faltu   23\n",
       "9     Sneha   21\n",
       "10   Saloni   20\n",
       "11  Maitrii   25\n",
       "12  Darshan   24\n",
       "13   Roshan   26\n",
       "14     Vraj   20\n",
       "15   Reenal   23\n",
       "16      Jay   18\n",
       "17   Manali   26\n",
       "18    Hiral   23"
      ]
     },
     "execution_count": 41,
     "metadata": {},
     "output_type": "execute_result"
    }
   ],
   "source": [
    "#find multiple columns\n",
    "a5[['Name','Age']]"
   ]
  },
  {
   "cell_type": "code",
   "execution_count": 48,
   "id": "d1cd828f",
   "metadata": {},
   "outputs": [
    {
     "name": "stdout",
     "output_type": "stream",
     "text": [
      "       Name  Age\n",
      "10   Saloni   20\n",
      "11  Maitrii   25\n",
      "12  Darshan   24\n",
      "13   Roshan   26\n",
      "14     Vraj   20\n",
      "15   Reenal   23\n",
      "16      Jay   18\n",
      "17   Manali   26\n",
      "18    Hiral   23\n"
     ]
    }
   ],
   "source": [
    "#[first how many row uh want,how many column you want]\n",
    "print(a5.iloc[10:,:2])"
   ]
  },
  {
   "cell_type": "code",
   "execution_count": 43,
   "id": "480fc616",
   "metadata": {},
   "outputs": [
    {
     "name": "stdout",
     "output_type": "stream",
     "text": [
      "       Name  Age  Mark\n",
      "12  Darshan   24    52\n",
      "13   Roshan   26    99\n",
      "14     Vraj   20    97\n",
      "15   Reenal   23    90\n",
      "16      Jay   18    88\n",
      "17   Manali   26    56\n",
      "18    Hiral   23    15\n"
     ]
    }
   ],
   "source": [
    "print(a5.iloc[12:19])"
   ]
  },
  {
   "cell_type": "code",
   "execution_count": 46,
   "id": "122edf7f",
   "metadata": {},
   "outputs": [
    {
     "data": {
      "text/html": [
       "<div>\n",
       "<style scoped>\n",
       "    .dataframe tbody tr th:only-of-type {\n",
       "        vertical-align: middle;\n",
       "    }\n",
       "\n",
       "    .dataframe tbody tr th {\n",
       "        vertical-align: top;\n",
       "    }\n",
       "\n",
       "    .dataframe thead th {\n",
       "        text-align: right;\n",
       "    }\n",
       "</style>\n",
       "<table border=\"1\" class=\"dataframe\">\n",
       "  <thead>\n",
       "    <tr style=\"text-align: right;\">\n",
       "      <th></th>\n",
       "      <th>Name</th>\n",
       "      <th>Age</th>\n",
       "      <th>Mark</th>\n",
       "    </tr>\n",
       "  </thead>\n",
       "  <tbody>\n",
       "    <tr>\n",
       "      <th>0</th>\n",
       "      <td>Jigar</td>\n",
       "      <td>22</td>\n",
       "      <td>70</td>\n",
       "    </tr>\n",
       "    <tr>\n",
       "      <th>1</th>\n",
       "      <td>Dhrumit</td>\n",
       "      <td>21</td>\n",
       "      <td>80</td>\n",
       "    </tr>\n",
       "    <tr>\n",
       "      <th>2</th>\n",
       "      <td>Raju</td>\n",
       "      <td>20</td>\n",
       "      <td>70</td>\n",
       "    </tr>\n",
       "  </tbody>\n",
       "</table>\n",
       "</div>"
      ],
      "text/plain": [
       "      Name  Age  Mark\n",
       "0    Jigar   22    70\n",
       "1  Dhrumit   21    80\n",
       "2     Raju   20    70"
      ]
     },
     "execution_count": 46,
     "metadata": {},
     "output_type": "execute_result"
    }
   ],
   "source": [
    "a5.head(3)"
   ]
  },
  {
   "cell_type": "code",
   "execution_count": 47,
   "id": "89921509",
   "metadata": {},
   "outputs": [
    {
     "data": {
      "text/html": [
       "<div>\n",
       "<style scoped>\n",
       "    .dataframe tbody tr th:only-of-type {\n",
       "        vertical-align: middle;\n",
       "    }\n",
       "\n",
       "    .dataframe tbody tr th {\n",
       "        vertical-align: top;\n",
       "    }\n",
       "\n",
       "    .dataframe thead th {\n",
       "        text-align: right;\n",
       "    }\n",
       "</style>\n",
       "<table border=\"1\" class=\"dataframe\">\n",
       "  <thead>\n",
       "    <tr style=\"text-align: right;\">\n",
       "      <th></th>\n",
       "      <th>Name</th>\n",
       "      <th>Age</th>\n",
       "      <th>Mark</th>\n",
       "    </tr>\n",
       "  </thead>\n",
       "  <tbody>\n",
       "    <tr>\n",
       "      <th>16</th>\n",
       "      <td>Jay</td>\n",
       "      <td>18</td>\n",
       "      <td>88</td>\n",
       "    </tr>\n",
       "    <tr>\n",
       "      <th>17</th>\n",
       "      <td>Manali</td>\n",
       "      <td>26</td>\n",
       "      <td>56</td>\n",
       "    </tr>\n",
       "    <tr>\n",
       "      <th>18</th>\n",
       "      <td>Hiral</td>\n",
       "      <td>23</td>\n",
       "      <td>15</td>\n",
       "    </tr>\n",
       "  </tbody>\n",
       "</table>\n",
       "</div>"
      ],
      "text/plain": [
       "      Name  Age  Mark\n",
       "16     Jay   18    88\n",
       "17  Manali   26    56\n",
       "18   Hiral   23    15"
      ]
     },
     "execution_count": 47,
     "metadata": {},
     "output_type": "execute_result"
    }
   ],
   "source": [
    "a5.tail(3)"
   ]
  },
  {
   "cell_type": "code",
   "execution_count": 49,
   "id": "a013ff95",
   "metadata": {},
   "outputs": [
    {
     "data": {
      "text/html": [
       "<div>\n",
       "<style scoped>\n",
       "    .dataframe tbody tr th:only-of-type {\n",
       "        vertical-align: middle;\n",
       "    }\n",
       "\n",
       "    .dataframe tbody tr th {\n",
       "        vertical-align: top;\n",
       "    }\n",
       "\n",
       "    .dataframe thead th {\n",
       "        text-align: right;\n",
       "    }\n",
       "</style>\n",
       "<table border=\"1\" class=\"dataframe\">\n",
       "  <thead>\n",
       "    <tr style=\"text-align: right;\">\n",
       "      <th></th>\n",
       "      <th>Name</th>\n",
       "      <th>Age</th>\n",
       "      <th>Mark</th>\n",
       "      <th>mark2</th>\n",
       "    </tr>\n",
       "  </thead>\n",
       "  <tbody>\n",
       "    <tr>\n",
       "      <th>0</th>\n",
       "      <td>Jigar</td>\n",
       "      <td>22</td>\n",
       "      <td>70</td>\n",
       "      <td>34</td>\n",
       "    </tr>\n",
       "    <tr>\n",
       "      <th>1</th>\n",
       "      <td>Dhrumit</td>\n",
       "      <td>21</td>\n",
       "      <td>80</td>\n",
       "      <td>56</td>\n",
       "    </tr>\n",
       "    <tr>\n",
       "      <th>2</th>\n",
       "      <td>Raju</td>\n",
       "      <td>20</td>\n",
       "      <td>70</td>\n",
       "      <td>66</td>\n",
       "    </tr>\n",
       "    <tr>\n",
       "      <th>3</th>\n",
       "      <td>Karan</td>\n",
       "      <td>25</td>\n",
       "      <td>55</td>\n",
       "      <td>59</td>\n",
       "    </tr>\n",
       "    <tr>\n",
       "      <th>4</th>\n",
       "      <td>Rahul</td>\n",
       "      <td>23</td>\n",
       "      <td>63</td>\n",
       "      <td>41</td>\n",
       "    </tr>\n",
       "    <tr>\n",
       "      <th>5</th>\n",
       "      <td>Aman</td>\n",
       "      <td>24</td>\n",
       "      <td>29</td>\n",
       "      <td>25</td>\n",
       "    </tr>\n",
       "    <tr>\n",
       "      <th>6</th>\n",
       "      <td>Jugnu</td>\n",
       "      <td>19</td>\n",
       "      <td>54</td>\n",
       "      <td>78</td>\n",
       "    </tr>\n",
       "    <tr>\n",
       "      <th>7</th>\n",
       "      <td>Asad</td>\n",
       "      <td>22</td>\n",
       "      <td>80</td>\n",
       "      <td>52</td>\n",
       "    </tr>\n",
       "    <tr>\n",
       "      <th>8</th>\n",
       "      <td>Faltu</td>\n",
       "      <td>23</td>\n",
       "      <td>57</td>\n",
       "      <td>19</td>\n",
       "    </tr>\n",
       "    <tr>\n",
       "      <th>9</th>\n",
       "      <td>Sneha</td>\n",
       "      <td>21</td>\n",
       "      <td>29</td>\n",
       "      <td>76</td>\n",
       "    </tr>\n",
       "    <tr>\n",
       "      <th>10</th>\n",
       "      <td>Saloni</td>\n",
       "      <td>20</td>\n",
       "      <td>65</td>\n",
       "      <td>48</td>\n",
       "    </tr>\n",
       "    <tr>\n",
       "      <th>11</th>\n",
       "      <td>Maitrii</td>\n",
       "      <td>25</td>\n",
       "      <td>49</td>\n",
       "      <td>38</td>\n",
       "    </tr>\n",
       "    <tr>\n",
       "      <th>12</th>\n",
       "      <td>Darshan</td>\n",
       "      <td>24</td>\n",
       "      <td>52</td>\n",
       "      <td>98</td>\n",
       "    </tr>\n",
       "    <tr>\n",
       "      <th>13</th>\n",
       "      <td>Roshan</td>\n",
       "      <td>26</td>\n",
       "      <td>99</td>\n",
       "      <td>78</td>\n",
       "    </tr>\n",
       "    <tr>\n",
       "      <th>14</th>\n",
       "      <td>Vraj</td>\n",
       "      <td>20</td>\n",
       "      <td>97</td>\n",
       "      <td>99</td>\n",
       "    </tr>\n",
       "    <tr>\n",
       "      <th>15</th>\n",
       "      <td>Reenal</td>\n",
       "      <td>23</td>\n",
       "      <td>90</td>\n",
       "      <td>85</td>\n",
       "    </tr>\n",
       "    <tr>\n",
       "      <th>16</th>\n",
       "      <td>Jay</td>\n",
       "      <td>18</td>\n",
       "      <td>88</td>\n",
       "      <td>78</td>\n",
       "    </tr>\n",
       "    <tr>\n",
       "      <th>17</th>\n",
       "      <td>Manali</td>\n",
       "      <td>26</td>\n",
       "      <td>56</td>\n",
       "      <td>75</td>\n",
       "    </tr>\n",
       "    <tr>\n",
       "      <th>18</th>\n",
       "      <td>Hiral</td>\n",
       "      <td>23</td>\n",
       "      <td>15</td>\n",
       "      <td>49</td>\n",
       "    </tr>\n",
       "  </tbody>\n",
       "</table>\n",
       "</div>"
      ],
      "text/plain": [
       "       Name  Age  Mark  mark2\n",
       "0     Jigar   22    70     34\n",
       "1   Dhrumit   21    80     56\n",
       "2      Raju   20    70     66\n",
       "3     Karan   25    55     59\n",
       "4     Rahul   23    63     41\n",
       "5      Aman   24    29     25\n",
       "6     Jugnu   19    54     78\n",
       "7      Asad   22    80     52\n",
       "8     Faltu   23    57     19\n",
       "9     Sneha   21    29     76\n",
       "10   Saloni   20    65     48\n",
       "11  Maitrii   25    49     38\n",
       "12  Darshan   24    52     98\n",
       "13   Roshan   26    99     78\n",
       "14     Vraj   20    97     99\n",
       "15   Reenal   23    90     85\n",
       "16      Jay   18    88     78\n",
       "17   Manali   26    56     75\n",
       "18    Hiral   23    15     49"
      ]
     },
     "execution_count": 49,
     "metadata": {},
     "output_type": "execute_result"
    }
   ],
   "source": [
    "#add new column\n",
    "a5['mark2']=[34,56,66,59,41,25,78,52,19,76,48,38,98,78,99,85,78,75,49]\n",
    "a5"
   ]
  },
  {
   "cell_type": "code",
   "execution_count": 50,
   "id": "dbc31947",
   "metadata": {},
   "outputs": [],
   "source": [
    "#total of two column\n",
    "a5['Total']=a5['Mark']+a5['mark2']"
   ]
  },
  {
   "cell_type": "code",
   "execution_count": 51,
   "id": "2f328f1c",
   "metadata": {},
   "outputs": [
    {
     "data": {
      "text/html": [
       "<div>\n",
       "<style scoped>\n",
       "    .dataframe tbody tr th:only-of-type {\n",
       "        vertical-align: middle;\n",
       "    }\n",
       "\n",
       "    .dataframe tbody tr th {\n",
       "        vertical-align: top;\n",
       "    }\n",
       "\n",
       "    .dataframe thead th {\n",
       "        text-align: right;\n",
       "    }\n",
       "</style>\n",
       "<table border=\"1\" class=\"dataframe\">\n",
       "  <thead>\n",
       "    <tr style=\"text-align: right;\">\n",
       "      <th></th>\n",
       "      <th>Name</th>\n",
       "      <th>Age</th>\n",
       "      <th>Mark</th>\n",
       "      <th>mark2</th>\n",
       "      <th>Total</th>\n",
       "    </tr>\n",
       "  </thead>\n",
       "  <tbody>\n",
       "    <tr>\n",
       "      <th>0</th>\n",
       "      <td>Jigar</td>\n",
       "      <td>22</td>\n",
       "      <td>70</td>\n",
       "      <td>34</td>\n",
       "      <td>104</td>\n",
       "    </tr>\n",
       "    <tr>\n",
       "      <th>1</th>\n",
       "      <td>Dhrumit</td>\n",
       "      <td>21</td>\n",
       "      <td>80</td>\n",
       "      <td>56</td>\n",
       "      <td>136</td>\n",
       "    </tr>\n",
       "    <tr>\n",
       "      <th>2</th>\n",
       "      <td>Raju</td>\n",
       "      <td>20</td>\n",
       "      <td>70</td>\n",
       "      <td>66</td>\n",
       "      <td>136</td>\n",
       "    </tr>\n",
       "    <tr>\n",
       "      <th>3</th>\n",
       "      <td>Karan</td>\n",
       "      <td>25</td>\n",
       "      <td>55</td>\n",
       "      <td>59</td>\n",
       "      <td>114</td>\n",
       "    </tr>\n",
       "    <tr>\n",
       "      <th>4</th>\n",
       "      <td>Rahul</td>\n",
       "      <td>23</td>\n",
       "      <td>63</td>\n",
       "      <td>41</td>\n",
       "      <td>104</td>\n",
       "    </tr>\n",
       "    <tr>\n",
       "      <th>5</th>\n",
       "      <td>Aman</td>\n",
       "      <td>24</td>\n",
       "      <td>29</td>\n",
       "      <td>25</td>\n",
       "      <td>54</td>\n",
       "    </tr>\n",
       "    <tr>\n",
       "      <th>6</th>\n",
       "      <td>Jugnu</td>\n",
       "      <td>19</td>\n",
       "      <td>54</td>\n",
       "      <td>78</td>\n",
       "      <td>132</td>\n",
       "    </tr>\n",
       "    <tr>\n",
       "      <th>7</th>\n",
       "      <td>Asad</td>\n",
       "      <td>22</td>\n",
       "      <td>80</td>\n",
       "      <td>52</td>\n",
       "      <td>132</td>\n",
       "    </tr>\n",
       "    <tr>\n",
       "      <th>8</th>\n",
       "      <td>Faltu</td>\n",
       "      <td>23</td>\n",
       "      <td>57</td>\n",
       "      <td>19</td>\n",
       "      <td>76</td>\n",
       "    </tr>\n",
       "    <tr>\n",
       "      <th>9</th>\n",
       "      <td>Sneha</td>\n",
       "      <td>21</td>\n",
       "      <td>29</td>\n",
       "      <td>76</td>\n",
       "      <td>105</td>\n",
       "    </tr>\n",
       "    <tr>\n",
       "      <th>10</th>\n",
       "      <td>Saloni</td>\n",
       "      <td>20</td>\n",
       "      <td>65</td>\n",
       "      <td>48</td>\n",
       "      <td>113</td>\n",
       "    </tr>\n",
       "    <tr>\n",
       "      <th>11</th>\n",
       "      <td>Maitrii</td>\n",
       "      <td>25</td>\n",
       "      <td>49</td>\n",
       "      <td>38</td>\n",
       "      <td>87</td>\n",
       "    </tr>\n",
       "    <tr>\n",
       "      <th>12</th>\n",
       "      <td>Darshan</td>\n",
       "      <td>24</td>\n",
       "      <td>52</td>\n",
       "      <td>98</td>\n",
       "      <td>150</td>\n",
       "    </tr>\n",
       "    <tr>\n",
       "      <th>13</th>\n",
       "      <td>Roshan</td>\n",
       "      <td>26</td>\n",
       "      <td>99</td>\n",
       "      <td>78</td>\n",
       "      <td>177</td>\n",
       "    </tr>\n",
       "    <tr>\n",
       "      <th>14</th>\n",
       "      <td>Vraj</td>\n",
       "      <td>20</td>\n",
       "      <td>97</td>\n",
       "      <td>99</td>\n",
       "      <td>196</td>\n",
       "    </tr>\n",
       "    <tr>\n",
       "      <th>15</th>\n",
       "      <td>Reenal</td>\n",
       "      <td>23</td>\n",
       "      <td>90</td>\n",
       "      <td>85</td>\n",
       "      <td>175</td>\n",
       "    </tr>\n",
       "    <tr>\n",
       "      <th>16</th>\n",
       "      <td>Jay</td>\n",
       "      <td>18</td>\n",
       "      <td>88</td>\n",
       "      <td>78</td>\n",
       "      <td>166</td>\n",
       "    </tr>\n",
       "    <tr>\n",
       "      <th>17</th>\n",
       "      <td>Manali</td>\n",
       "      <td>26</td>\n",
       "      <td>56</td>\n",
       "      <td>75</td>\n",
       "      <td>131</td>\n",
       "    </tr>\n",
       "    <tr>\n",
       "      <th>18</th>\n",
       "      <td>Hiral</td>\n",
       "      <td>23</td>\n",
       "      <td>15</td>\n",
       "      <td>49</td>\n",
       "      <td>64</td>\n",
       "    </tr>\n",
       "  </tbody>\n",
       "</table>\n",
       "</div>"
      ],
      "text/plain": [
       "       Name  Age  Mark  mark2  Total\n",
       "0     Jigar   22    70     34    104\n",
       "1   Dhrumit   21    80     56    136\n",
       "2      Raju   20    70     66    136\n",
       "3     Karan   25    55     59    114\n",
       "4     Rahul   23    63     41    104\n",
       "5      Aman   24    29     25     54\n",
       "6     Jugnu   19    54     78    132\n",
       "7      Asad   22    80     52    132\n",
       "8     Faltu   23    57     19     76\n",
       "9     Sneha   21    29     76    105\n",
       "10   Saloni   20    65     48    113\n",
       "11  Maitrii   25    49     38     87\n",
       "12  Darshan   24    52     98    150\n",
       "13   Roshan   26    99     78    177\n",
       "14     Vraj   20    97     99    196\n",
       "15   Reenal   23    90     85    175\n",
       "16      Jay   18    88     78    166\n",
       "17   Manali   26    56     75    131\n",
       "18    Hiral   23    15     49     64"
      ]
     },
     "execution_count": 51,
     "metadata": {},
     "output_type": "execute_result"
    }
   ],
   "source": [
    "a5"
   ]
  },
  {
   "cell_type": "code",
   "execution_count": 54,
   "id": "d8b2fc34",
   "metadata": {},
   "outputs": [
    {
     "data": {
      "text/html": [
       "<div>\n",
       "<style scoped>\n",
       "    .dataframe tbody tr th:only-of-type {\n",
       "        vertical-align: middle;\n",
       "    }\n",
       "\n",
       "    .dataframe tbody tr th {\n",
       "        vertical-align: top;\n",
       "    }\n",
       "\n",
       "    .dataframe thead th {\n",
       "        text-align: right;\n",
       "    }\n",
       "</style>\n",
       "<table border=\"1\" class=\"dataframe\">\n",
       "  <thead>\n",
       "    <tr style=\"text-align: right;\">\n",
       "      <th></th>\n",
       "      <th>Name</th>\n",
       "      <th>Age</th>\n",
       "      <th>Mark1</th>\n",
       "      <th>Mark2</th>\n",
       "      <th>Total</th>\n",
       "    </tr>\n",
       "  </thead>\n",
       "  <tbody>\n",
       "    <tr>\n",
       "      <th>0</th>\n",
       "      <td>Jigar</td>\n",
       "      <td>22</td>\n",
       "      <td>70</td>\n",
       "      <td>34</td>\n",
       "      <td>104</td>\n",
       "    </tr>\n",
       "    <tr>\n",
       "      <th>1</th>\n",
       "      <td>Dhrumit</td>\n",
       "      <td>21</td>\n",
       "      <td>80</td>\n",
       "      <td>56</td>\n",
       "      <td>136</td>\n",
       "    </tr>\n",
       "    <tr>\n",
       "      <th>2</th>\n",
       "      <td>Raju</td>\n",
       "      <td>20</td>\n",
       "      <td>70</td>\n",
       "      <td>66</td>\n",
       "      <td>136</td>\n",
       "    </tr>\n",
       "    <tr>\n",
       "      <th>3</th>\n",
       "      <td>Karan</td>\n",
       "      <td>25</td>\n",
       "      <td>55</td>\n",
       "      <td>59</td>\n",
       "      <td>114</td>\n",
       "    </tr>\n",
       "    <tr>\n",
       "      <th>4</th>\n",
       "      <td>Rahul</td>\n",
       "      <td>23</td>\n",
       "      <td>63</td>\n",
       "      <td>41</td>\n",
       "      <td>104</td>\n",
       "    </tr>\n",
       "    <tr>\n",
       "      <th>5</th>\n",
       "      <td>Aman</td>\n",
       "      <td>24</td>\n",
       "      <td>29</td>\n",
       "      <td>25</td>\n",
       "      <td>54</td>\n",
       "    </tr>\n",
       "    <tr>\n",
       "      <th>6</th>\n",
       "      <td>Jugnu</td>\n",
       "      <td>19</td>\n",
       "      <td>54</td>\n",
       "      <td>78</td>\n",
       "      <td>132</td>\n",
       "    </tr>\n",
       "    <tr>\n",
       "      <th>7</th>\n",
       "      <td>Asad</td>\n",
       "      <td>22</td>\n",
       "      <td>80</td>\n",
       "      <td>52</td>\n",
       "      <td>132</td>\n",
       "    </tr>\n",
       "    <tr>\n",
       "      <th>8</th>\n",
       "      <td>Faltu</td>\n",
       "      <td>23</td>\n",
       "      <td>57</td>\n",
       "      <td>19</td>\n",
       "      <td>76</td>\n",
       "    </tr>\n",
       "    <tr>\n",
       "      <th>9</th>\n",
       "      <td>Sneha</td>\n",
       "      <td>21</td>\n",
       "      <td>29</td>\n",
       "      <td>76</td>\n",
       "      <td>105</td>\n",
       "    </tr>\n",
       "    <tr>\n",
       "      <th>10</th>\n",
       "      <td>Saloni</td>\n",
       "      <td>20</td>\n",
       "      <td>65</td>\n",
       "      <td>48</td>\n",
       "      <td>113</td>\n",
       "    </tr>\n",
       "    <tr>\n",
       "      <th>11</th>\n",
       "      <td>Maitrii</td>\n",
       "      <td>25</td>\n",
       "      <td>49</td>\n",
       "      <td>38</td>\n",
       "      <td>87</td>\n",
       "    </tr>\n",
       "    <tr>\n",
       "      <th>12</th>\n",
       "      <td>Darshan</td>\n",
       "      <td>24</td>\n",
       "      <td>52</td>\n",
       "      <td>98</td>\n",
       "      <td>150</td>\n",
       "    </tr>\n",
       "    <tr>\n",
       "      <th>13</th>\n",
       "      <td>Roshan</td>\n",
       "      <td>26</td>\n",
       "      <td>99</td>\n",
       "      <td>78</td>\n",
       "      <td>177</td>\n",
       "    </tr>\n",
       "    <tr>\n",
       "      <th>14</th>\n",
       "      <td>Vraj</td>\n",
       "      <td>20</td>\n",
       "      <td>97</td>\n",
       "      <td>99</td>\n",
       "      <td>196</td>\n",
       "    </tr>\n",
       "    <tr>\n",
       "      <th>15</th>\n",
       "      <td>Reenal</td>\n",
       "      <td>23</td>\n",
       "      <td>90</td>\n",
       "      <td>85</td>\n",
       "      <td>175</td>\n",
       "    </tr>\n",
       "    <tr>\n",
       "      <th>16</th>\n",
       "      <td>Jay</td>\n",
       "      <td>18</td>\n",
       "      <td>88</td>\n",
       "      <td>78</td>\n",
       "      <td>166</td>\n",
       "    </tr>\n",
       "    <tr>\n",
       "      <th>17</th>\n",
       "      <td>Manali</td>\n",
       "      <td>26</td>\n",
       "      <td>56</td>\n",
       "      <td>75</td>\n",
       "      <td>131</td>\n",
       "    </tr>\n",
       "    <tr>\n",
       "      <th>18</th>\n",
       "      <td>Hiral</td>\n",
       "      <td>23</td>\n",
       "      <td>15</td>\n",
       "      <td>49</td>\n",
       "      <td>64</td>\n",
       "    </tr>\n",
       "  </tbody>\n",
       "</table>\n",
       "</div>"
      ],
      "text/plain": [
       "       Name  Age  Mark1  Mark2  Total\n",
       "0     Jigar   22     70     34    104\n",
       "1   Dhrumit   21     80     56    136\n",
       "2      Raju   20     70     66    136\n",
       "3     Karan   25     55     59    114\n",
       "4     Rahul   23     63     41    104\n",
       "5      Aman   24     29     25     54\n",
       "6     Jugnu   19     54     78    132\n",
       "7      Asad   22     80     52    132\n",
       "8     Faltu   23     57     19     76\n",
       "9     Sneha   21     29     76    105\n",
       "10   Saloni   20     65     48    113\n",
       "11  Maitrii   25     49     38     87\n",
       "12  Darshan   24     52     98    150\n",
       "13   Roshan   26     99     78    177\n",
       "14     Vraj   20     97     99    196\n",
       "15   Reenal   23     90     85    175\n",
       "16      Jay   18     88     78    166\n",
       "17   Manali   26     56     75    131\n",
       "18    Hiral   23     15     49     64"
      ]
     },
     "execution_count": 54,
     "metadata": {},
     "output_type": "execute_result"
    }
   ],
   "source": [
    "a5 = a5.rename(columns={'mark2': 'Mark2'})\n",
    "\n",
    "a5\n"
   ]
  },
  {
   "cell_type": "code",
   "execution_count": null,
   "id": "8f23123f",
   "metadata": {},
   "outputs": [],
   "source": [
    "df = df.rename(columns={'old_name': 'new_name'})\n"
   ]
  }
 ],
 "metadata": {
  "kernelspec": {
   "display_name": "Python 3 (ipykernel)",
   "language": "python",
   "name": "python3"
  },
  "language_info": {
   "codemirror_mode": {
    "name": "ipython",
    "version": 3
   },
   "file_extension": ".py",
   "mimetype": "text/x-python",
   "name": "python",
   "nbconvert_exporter": "python",
   "pygments_lexer": "ipython3",
   "version": "3.9.13"
  }
 },
 "nbformat": 4,
 "nbformat_minor": 5
}
