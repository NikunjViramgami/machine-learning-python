{
 "cells": [
  {
   "cell_type": "code",
   "execution_count": 1,
   "id": "549a23a8",
   "metadata": {},
   "outputs": [
    {
     "name": "stdout",
     "output_type": "stream",
     "text": [
      "Hello My world\n"
     ]
    }
   ],
   "source": [
    "import numpy as np\n",
    "print(\"Hello My world\")"
   ]
  },
  {
   "cell_type": "code",
   "execution_count": 2,
   "id": "9e780a29",
   "metadata": {},
   "outputs": [
    {
     "name": "stdout",
     "output_type": "stream",
     "text": [
      "[[1 2 3]\n",
      " [8 4 9]]\n"
     ]
    }
   ],
   "source": [
    "a=np.array([[1,2,3],[8,4,9]])\n",
    "b=np.array([[10,60,30],[20,40,50]])\n",
    "print(a)\n"
   ]
  },
  {
   "cell_type": "code",
   "execution_count": 3,
   "id": "c87f3f1d",
   "metadata": {},
   "outputs": [
    {
     "name": "stdout",
     "output_type": "stream",
     "text": [
      "[[10 60 30]\n",
      " [20 40 50]]\n"
     ]
    }
   ],
   "source": [
    "print(b)"
   ]
  },
  {
   "cell_type": "code",
   "execution_count": 5,
   "id": "42f46097",
   "metadata": {},
   "outputs": [
    {
     "name": "stdout",
     "output_type": "stream",
     "text": [
      "[1 2 3 8 4 9]\n"
     ]
    }
   ],
   "source": [
    "#Horizontal stack\n",
    "a1=np.hstack(a)\n",
    "print(a1)"
   ]
  },
  {
   "cell_type": "code",
   "execution_count": 6,
   "id": "c1fcc98f",
   "metadata": {},
   "outputs": [
    {
     "name": "stdout",
     "output_type": "stream",
     "text": [
      "[[1 2 3]\n",
      " [8 4 9]]\n"
     ]
    }
   ],
   "source": [
    "#verical stack\n",
    "a2=np.vstack(a)\n",
    "print(a2)"
   ]
  },
  {
   "cell_type": "code",
   "execution_count": 7,
   "id": "d0b63ad6",
   "metadata": {},
   "outputs": [
    {
     "name": "stdout",
     "output_type": "stream",
     "text": [
      "[[ 1  2  3]\n",
      " [ 8  4  9]\n",
      " [10 60 30]\n",
      " [20 40 50]]\n"
     ]
    }
   ],
   "source": [
    "a3=np.vstack((a,b))\n",
    "print(a3)"
   ]
  },
  {
   "cell_type": "code",
   "execution_count": 9,
   "id": "54a9a377",
   "metadata": {},
   "outputs": [
    {
     "data": {
      "text/plain": [
       "array([ 1,  2,  3,  4,  5,  6,  7,  8,  9, 10])"
      ]
     },
     "execution_count": 9,
     "metadata": {},
     "output_type": "execute_result"
    }
   ],
   "source": [
    "#range\n",
    "a4=np.arange(1,11)\n",
    "a4\n"
   ]
  },
  {
   "cell_type": "code",
   "execution_count": 11,
   "id": "d48c573f",
   "metadata": {},
   "outputs": [
    {
     "data": {
      "text/plain": [
       "array([ 2,  4,  6,  8, 10, 12, 14, 16, 18, 20])"
      ]
     },
     "execution_count": 11,
     "metadata": {},
     "output_type": "execute_result"
    }
   ],
   "source": [
    "#Arange with step\n",
    "f=np.arange(2,21,2)\n",
    "f"
   ]
  },
  {
   "cell_type": "code",
   "execution_count": 12,
   "id": "c9ad622d",
   "metadata": {},
   "outputs": [
    {
     "data": {
      "text/plain": [
       "array([ 13,  26,  39,  52,  65,  78,  91, 104, 117, 130])"
      ]
     },
     "execution_count": 12,
     "metadata": {},
     "output_type": "execute_result"
    }
   ],
   "source": [
    "#table of 13\n",
    "a6=np.arange(13,131,13)\n",
    "a6"
   ]
  },
  {
   "cell_type": "code",
   "execution_count": 14,
   "id": "cb725531",
   "metadata": {},
   "outputs": [
    {
     "data": {
      "text/plain": [
       "array([1.        , 1.44444444, 1.88888889, 2.33333333, 2.77777778,\n",
       "       3.22222222, 3.66666667, 4.11111111, 4.55555556, 5.        ])"
      ]
     },
     "execution_count": 14,
     "metadata": {},
     "output_type": "execute_result"
    }
   ],
   "source": [
    "#divide 1 to 5 in 10 part\n",
    "a7=np.linspace(1.0,5.0,num=10)\n",
    "a7"
   ]
  },
  {
   "cell_type": "code",
   "execution_count": 18,
   "id": "2c006616",
   "metadata": {},
   "outputs": [
    {
     "data": {
      "text/plain": [
       "array([1, 2, 3])"
      ]
     },
     "execution_count": 18,
     "metadata": {},
     "output_type": "execute_result"
    }
   ],
   "source": [
    "a[0:1]\n",
    "a[0]"
   ]
  },
  {
   "cell_type": "code",
   "execution_count": 17,
   "id": "e9d29f7a",
   "metadata": {},
   "outputs": [
    {
     "data": {
      "text/plain": [
       "array([[8, 4, 9]])"
      ]
     },
     "execution_count": 17,
     "metadata": {},
     "output_type": "execute_result"
    }
   ],
   "source": [
    "a[1:2]"
   ]
  },
  {
   "cell_type": "code",
   "execution_count": 19,
   "id": "40c35ba3",
   "metadata": {},
   "outputs": [
    {
     "data": {
      "text/plain": [
       "array([1, 2, 3])"
      ]
     },
     "execution_count": 19,
     "metadata": {},
     "output_type": "execute_result"
    }
   ],
   "source": [
    "#first array show\n",
    "a[0]"
   ]
  },
  {
   "cell_type": "code",
   "execution_count": 20,
   "id": "ad3ab7a5",
   "metadata": {},
   "outputs": [
    {
     "data": {
      "text/plain": [
       "array([8, 4, 9])"
      ]
     },
     "execution_count": 20,
     "metadata": {},
     "output_type": "execute_result"
    }
   ],
   "source": [
    "#second array show\n",
    "a[1]"
   ]
  },
  {
   "cell_type": "code",
   "execution_count": 21,
   "id": "01aee7d1",
   "metadata": {},
   "outputs": [
    {
     "data": {
      "text/plain": [
       "array([8, 4, 9])"
      ]
     },
     "execution_count": 21,
     "metadata": {},
     "output_type": "execute_result"
    }
   ],
   "source": [
    "a[1,0:]"
   ]
  },
  {
   "cell_type": "code",
   "execution_count": 22,
   "id": "f3f438f2",
   "metadata": {},
   "outputs": [
    {
     "data": {
      "text/plain": [
       "array([3, 9])"
      ]
     },
     "execution_count": 22,
     "metadata": {},
     "output_type": "execute_result"
    }
   ],
   "source": [
    "a[:,2]"
   ]
  },
  {
   "cell_type": "code",
   "execution_count": 29,
   "id": "3e7dc408",
   "metadata": {},
   "outputs": [
    {
     "data": {
      "text/plain": [
       "array([9])"
      ]
     },
     "execution_count": 29,
     "metadata": {},
     "output_type": "execute_result"
    }
   ],
   "source": [
    "#find second array in last element\n",
    "a[1:2,2]"
   ]
  },
  {
   "cell_type": "code",
   "execution_count": 27,
   "id": "b2ad7c87",
   "metadata": {},
   "outputs": [
    {
     "data": {
      "text/plain": [
       "array([3])"
      ]
     },
     "execution_count": 27,
     "metadata": {},
     "output_type": "execute_result"
    }
   ],
   "source": [
    "#find first array in last element\n",
    "a[0:1,2]"
   ]
  },
  {
   "cell_type": "code",
   "execution_count": 30,
   "id": "03dcae2b",
   "metadata": {},
   "outputs": [
    {
     "data": {
      "text/plain": [
       "array([[1., 1., 1., 1.],\n",
       "       [1., 1., 1., 1.],\n",
       "       [1., 1., 1., 1.],\n",
       "       [1., 1., 1., 1.]])"
      ]
     },
     "execution_count": 30,
     "metadata": {},
     "output_type": "execute_result"
    }
   ],
   "source": [
    "b=np.ones((4,4))\n",
    "b"
   ]
  },
  {
   "cell_type": "code",
   "execution_count": 46,
   "id": "b3de7872",
   "metadata": {},
   "outputs": [
    {
     "data": {
      "text/plain": [
       "array([1.])"
      ]
     },
     "execution_count": 46,
     "metadata": {},
     "output_type": "execute_result"
    }
   ],
   "source": [
    "b[0:1,1]\n"
   ]
  },
  {
   "cell_type": "code",
   "execution_count": 35,
   "id": "fce1e0f6",
   "metadata": {},
   "outputs": [
    {
     "data": {
      "text/plain": [
       "array([[3, 3],\n",
       "       [9, 0],\n",
       "       [6, 5]])"
      ]
     },
     "execution_count": 35,
     "metadata": {},
     "output_type": "execute_result"
    }
   ],
   "source": [
    "c=np.random.randint(0,10,size=(3,2))\n",
    "c\n"
   ]
  },
  {
   "cell_type": "code",
   "execution_count": 33,
   "id": "fb42d5ab",
   "metadata": {},
   "outputs": [
    {
     "data": {
      "text/plain": [
       "array([[1., 0., 0.],\n",
       "       [0., 1., 0.],\n",
       "       [0., 0., 1.]])"
      ]
     },
     "execution_count": 33,
     "metadata": {},
     "output_type": "execute_result"
    }
   ],
   "source": [
    "d=np.eye(3)\n",
    "d"
   ]
  },
  {
   "cell_type": "code",
   "execution_count": 36,
   "id": "15f38fa5",
   "metadata": {},
   "outputs": [
    {
     "name": "stdout",
     "output_type": "stream",
     "text": [
      "[ 6  7  8  9 10]\n"
     ]
    }
   ],
   "source": [
    "#5 add in each element in array(broadcasting)\n",
    "ar=np.array([1,2,3,4,5])\n",
    "ar+=5\n",
    "print(ar)"
   ]
  },
  {
   "cell_type": "code",
   "execution_count": 39,
   "id": "bf17ed8f",
   "metadata": {},
   "outputs": [
    {
     "name": "stdout",
     "output_type": "stream",
     "text": [
      "[[3 3]\n",
      " [9 0]\n",
      " [6 5]]\n",
      "9\n"
     ]
    }
   ],
   "source": [
    "d=np.random.randint(0,10,size=(3,3))\n",
    "print(c)\n",
    "print(c.max())"
   ]
  },
  {
   "cell_type": "code",
   "execution_count": 59,
   "id": "326f5f8b",
   "metadata": {},
   "outputs": [
    {
     "name": "stdout",
     "output_type": "stream",
     "text": [
      "[[3 7 0]\n",
      " [7 8 6]\n",
      " [4 8 6]]\n",
      "49\n"
     ]
    }
   ],
   "source": [
    "d=np.random.randint(0,10,size=(3,3))\n",
    "print(d)\n",
    "print(d.sum())"
   ]
  },
  {
   "cell_type": "code",
   "execution_count": 42,
   "id": "2f49c5f5",
   "metadata": {},
   "outputs": [
    {
     "name": "stdout",
     "output_type": "stream",
     "text": [
      "[[3 3]\n",
      " [9 0]\n",
      " [6 5]]\n",
      "0\n"
     ]
    }
   ],
   "source": [
    "d=np.random.randint(0,10,size=(3,3))\n",
    "print(d)\n",
    "print(d.min())"
   ]
  },
  {
   "cell_type": "code",
   "execution_count": 58,
   "id": "67071363",
   "metadata": {},
   "outputs": [
    {
     "name": "stdout",
     "output_type": "stream",
     "text": [
      "[[4 9 2]\n",
      " [2 6 4]\n",
      " [3 1 0]]\n",
      "(3, 3)\n",
      "After reshape\n",
      "[[4]\n",
      " [9]\n",
      " [2]\n",
      " [2]\n",
      " [6]\n",
      " [4]\n",
      " [3]\n",
      " [1]\n",
      " [0]]\n"
     ]
    }
   ],
   "source": [
    "d=np.random.randint(0,10,size=(3,3))\n",
    "print(d)\n",
    "print(d.shape)\n",
    "print(\"After reshape\")\n",
    "d=d.reshape(9,1)\n",
    "print(d)"
   ]
  },
  {
   "cell_type": "code",
   "execution_count": 48,
   "id": "2af84f74",
   "metadata": {},
   "outputs": [
    {
     "data": {
      "text/plain": [
       "array([[1, 2, 3],\n",
       "       [4, 5, 6]])"
      ]
     },
     "execution_count": 48,
     "metadata": {},
     "output_type": "execute_result"
    }
   ],
   "source": [
    "a1=np.array([[1,2,3],[4,5,6]])\n",
    "a1"
   ]
  },
  {
   "cell_type": "code",
   "execution_count": 50,
   "id": "6616a427",
   "metadata": {},
   "outputs": [
    {
     "data": {
      "text/plain": [
       "array([[ 7,  8,  9],\n",
       "       [10, 11, 12]])"
      ]
     },
     "execution_count": 50,
     "metadata": {},
     "output_type": "execute_result"
    }
   ],
   "source": [
    "a2=np.array([[7,8,9],[10,11,12]])\n",
    "a2"
   ]
  },
  {
   "cell_type": "code",
   "execution_count": 52,
   "id": "0623520c",
   "metadata": {},
   "outputs": [
    {
     "data": {
      "text/plain": [
       "array([[ 8, 10, 12],\n",
       "       [14, 16, 18]])"
      ]
     },
     "execution_count": 52,
     "metadata": {},
     "output_type": "execute_result"
    }
   ],
   "source": [
    "a3=np.add(a1,a2)\n",
    "a3"
   ]
  },
  {
   "cell_type": "code",
   "execution_count": 56,
   "id": "df5431c6",
   "metadata": {},
   "outputs": [
    {
     "name": "stdout",
     "output_type": "stream",
     "text": [
      "[[40 50 60]\n",
      " [70 80 90]\n",
      " [ 4  8  9]]\n",
      "After swap\n",
      "[[40 70  4]\n",
      " [50 80  8]\n",
      " [60 90  9]]\n"
     ]
    }
   ],
   "source": [
    "a1=np.array([[40,50,60],[70,80,90],[4,8,9]])\n",
    "print(a1)\n",
    "print(\"After swap\")\n",
    "a1=a1.T\n",
    "print(a1)"
   ]
  },
  {
   "cell_type": "code",
   "execution_count": null,
   "id": "c10987f5",
   "metadata": {},
   "outputs": [],
   "source": []
  }
 ],
 "metadata": {
  "kernelspec": {
   "display_name": "Python 3 (ipykernel)",
   "language": "python",
   "name": "python3"
  },
  "language_info": {
   "codemirror_mode": {
    "name": "ipython",
    "version": 3
   },
   "file_extension": ".py",
   "mimetype": "text/x-python",
   "name": "python",
   "nbconvert_exporter": "python",
   "pygments_lexer": "ipython3",
   "version": "3.9.13"
  }
 },
 "nbformat": 4,
 "nbformat_minor": 5
}
